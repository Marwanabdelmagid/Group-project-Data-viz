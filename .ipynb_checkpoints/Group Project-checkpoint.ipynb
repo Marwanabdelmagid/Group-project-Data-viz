{
 "cells": [
  {
   "cell_type": "markdown",
   "id": "315274be",
   "metadata": {},
   "source": [
    "### DSCI 2411 – Data Visualization\n",
    "### Project\n",
    "#### Group Members: Maya Hany Elshwweikhy   ID# 900204233,  Ali, Marwan"
   ]
  },
  {
   "cell_type": "code",
   "execution_count": null,
   "id": "88a613f3",
   "metadata": {},
   "outputs": [],
   "source": []
  },
  {
   "cell_type": "code",
   "execution_count": 13,
   "id": "f74d53e5",
   "metadata": {},
   "outputs": [],
   "source": [
    "import numpy as np\n",
    "import pandas as pd\n",
    "import scipy\n",
    "import scipy.stats as stats\n",
    "import matplotlib.pyplot as plt\n",
    "import seaborn as sn\n",
    "import matplotlib.colors as mcolors\n",
    "from matplotlib import cm\n",
    "import matplotlib as mpl\n",
    "import seaborn as sns\n",
    "import statsmodels.api as sm "
   ]
  },
  {
   "cell_type": "code",
   "execution_count": 62,
   "id": "c7a929a9",
   "metadata": {},
   "outputs": [],
   "source": [
    "df1=pd.read_excel('dataset6.xls',sheet_name=\"Population\")\n",
    "df2=pd.read_excel('dataset6.xls',sheet_name=\"Fertility\")\n",
    "df3=pd.read_excel('dataset6.xls',sheet_name=\"Mortality\")\n",
    "df4=pd.read_excel('dataset6.xls',sheet_name=\"Migration\")"
   ]
  },
  {
   "cell_type": "markdown",
   "id": "df823df0",
   "metadata": {},
   "source": [
    "# Description of the data"
   ]
  },
  {
   "cell_type": "markdown",
   "id": "44323036",
   "metadata": {},
   "source": [
    "Population: Total population and distribution by age and sex estimated to be consistent with the \n",
    "population by age and sex \n",
    "\n",
    "Fertility: Total fertility rate and age pattern of fertility \n",
    "\n",
    "Child Mortality: Under-five mortality \n",
    "\n",
    "Overall Mortality: Life expectancy at birth and age pattern of mortality \n",
    "\n",
    "Migration: International migration \n"
   ]
  },
  {
   "cell_type": "code",
   "execution_count": 63,
   "id": "f438c0db",
   "metadata": {},
   "outputs": [
    {
     "data": {
      "text/plain": [
       "Index                                                           int64\n",
       "Region, subregion, country or area *                           object\n",
       "ISO3 Alpha-code                                                object\n",
       "ISO2 Alpha-code                                                object\n",
       "Type                                                           object\n",
       "Year                                                          float64\n",
       "Total Population, as of 1 January (thousands)                  object\n",
       "Total Population, as of 1 July (thousands)                     object\n",
       "Male Population, as of 1 July (thousands)                      object\n",
       "Female Population, as of 1 July (thousands)                    object\n",
       "Population Density, as of 1 July (persons per square km)       object\n",
       "Population Sex Ratio, as of 1 July (males per 100 females)     object\n",
       "Median Age, as of 1 July (years)                               object\n",
       "Natural Change, Births minus Deaths (thousands)                object\n",
       "Rate of Natural Change (per 1,000 population)                  object\n",
       "Population Change (thousands)                                  object\n",
       "Population Growth Rate (percentage)                            object\n",
       "Population Annual Doubling Time (years)                        object\n",
       "dtype: object"
      ]
     },
     "execution_count": 63,
     "metadata": {},
     "output_type": "execute_result"
    }
   ],
   "source": [
    "df1.dtypes"
   ]
  },
  {
   "cell_type": "code",
   "execution_count": 64,
   "id": "635ae3e0",
   "metadata": {},
   "outputs": [],
   "source": [
    "x=df1[df1['Total Population, as of 1 January (thousands)']!= '...']\n",
    "pd.to_numeric(x['Total Population, as of 1 January (thousands)'])\n",
    "x=x['Total Population, as of 1 January (thousands)']"
   ]
  },
  {
   "cell_type": "code",
   "execution_count": 65,
   "id": "598bb412",
   "metadata": {},
   "outputs": [],
   "source": [
    "y=df1[df1['Total Population, as of 1 July (thousands)']!= '...']\n",
    "pd.to_numeric(y['Total Population, as of 1 July (thousands)']) \n",
    "y=y['Total Population, as of 1 July (thousands)']"
   ]
  },
  {
   "cell_type": "code",
   "execution_count": 66,
   "id": "e9b97faa",
   "metadata": {},
   "outputs": [],
   "source": [
    "z=df1[df1['Male Population, as of 1 July (thousands)']!= '...']\n",
    "pd.to_numeric(z['Male Population, as of 1 July (thousands)'])\n",
    "z=z['Male Population, as of 1 July (thousands)']"
   ]
  },
  {
   "cell_type": "code",
   "execution_count": 67,
   "id": "a5590e9d",
   "metadata": {},
   "outputs": [],
   "source": [
    "w=df1[df1['Female Population, as of 1 July (thousands)']!= '...']\n",
    "pd.to_numeric(w['Female Population, as of 1 July (thousands)'])\n",
    "w=w['Female Population, as of 1 July (thousands)']"
   ]
  },
  {
   "cell_type": "code",
   "execution_count": 68,
   "id": "8e02e8fe",
   "metadata": {},
   "outputs": [
    {
     "data": {
      "image/png": "[encoded data removed]",
      "text/plain": [
       "<Figure size 432x288 with 1 Axes>"
      ]
     },
     "metadata": {
      "needs_background": "light"
     },
     "output_type": "display_data"
    }
   ],
   "source": [
    "plt.scatter(z,w)\n",
    "plt.show()"
   ]
  },
  {
   "cell_type": "code",
   "execution_count": 69,
   "id": "ef6529c8",
   "metadata": {},
   "outputs": [
    {
     "data": {
      "text/plain": [
       "20592"
      ]
     },
     "execution_count": 69,
     "metadata": {},
     "output_type": "execute_result"
    }
   ],
   "source": [
    "len(x)"
   ]
  },
  {
   "cell_type": "code",
   "execution_count": 70,
   "id": "47f8595c",
   "metadata": {},
   "outputs": [
    {
     "data": {
      "text/plain": [
       "20592"
      ]
     },
     "execution_count": 70,
     "metadata": {},
     "output_type": "execute_result"
    }
   ],
   "source": [
    "len(y)"
   ]
  },
  {
   "cell_type": "code",
   "execution_count": 71,
   "id": "5049435c",
   "metadata": {},
   "outputs": [
    {
     "data": {
      "text/plain": [
       "20520"
      ]
     },
     "execution_count": 71,
     "metadata": {},
     "output_type": "execute_result"
    }
   ],
   "source": [
    "len(z)"
   ]
  },
  {
   "cell_type": "code",
   "execution_count": 72,
   "id": "f7eb2a3d",
   "metadata": {},
   "outputs": [
    {
     "data": {
      "text/plain": [
       "20520"
      ]
     },
     "execution_count": 72,
     "metadata": {},
     "output_type": "execute_result"
    }
   ],
   "source": [
    "len(w)"
   ]
  },
  {
   "cell_type": "code",
   "execution_count": null,
   "id": "e964eda7",
   "metadata": {},
   "outputs": [],
   "source": []
  }
 ],
 "metadata": {
  "kernelspec": {
   "display_name": "Python 3 (ipykernel)",
   "language": "python",
   "name": "python3"
  },
  "language_info": {
   "codemirror_mode": {
    "name": "ipython",
    "version": 3
   },
   "file_extension": ".py",
   "mimetype": "text/x-python",
   "name": "python",
   "nbconvert_exporter": "python",
   "pygments_lexer": "ipython3",
   "version": "3.9.7"
  }
 },
 "nbformat": 4,
 "nbformat_minor": 5
}
